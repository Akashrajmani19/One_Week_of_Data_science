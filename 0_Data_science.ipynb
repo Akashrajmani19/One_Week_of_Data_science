{
 "cells": [
  {
   "cell_type": "markdown",
   "id": "177039b7-b36c-4055-8e72-dacaac5fdc03",
   "metadata": {},
   "source": [
    "## Data science :"
   ]
  },
  {
   "cell_type": "markdown",
   "id": "ad6f30f4-e18f-43af-bfa6-d8879dd4d5e0",
   "metadata": {},
   "source": [
    "<pre>Data scince is a science that aims at gaining useful informatiion from data and it empower companies to make better informed decisions and this helps them in boost revenues, impower processes and reduce cost. Data could be leveraged in many industries such as finance, banking, healthcare, transportation and technology.          \n",
    "             Data can come from so many sources and forms such as images, audio, video and text. Collecting, structuring and analysing this data is critical for companies to gain customers insight and set their maketing and product strategies.</pre>\n",
    "### Process to solve any data scince related problem:\n",
    "1. Ask question to understand the business problem. \n",
    "2. Collect dataset to solve a given problem.\n",
    "3. Perform data wrangling(cleaning, merging .. etc) to make the data usable and presentable.\n",
    "4. Visualize dataset and build dshboards.\n",
    "5. Decidde success metrices, Key performance indicators(KPI,s),and pass fail criteria.\n",
    "6. Choose the right algorithem & model to solve the problem.\n",
    "7. Train ML models.\n",
    "8. Evaluate results and generates reports.\n",
    "9. Present results to shareholders, tell a story and make recommendations."
   ]
  },
  {
   "cell_type": "code",
   "execution_count": null,
   "id": "6facdf7b-4b21-4155-bfae-d06af1c5f440",
   "metadata": {},
   "outputs": [],
   "source": []
  },
  {
   "cell_type": "code",
   "execution_count": null,
   "id": "95120627-040a-43bc-8664-c889df6e3e03",
   "metadata": {},
   "outputs": [],
   "source": []
  }
 ],
 "metadata": {
  "kernelspec": {
   "display_name": "Python 3 (ipykernel)",
   "language": "python",
   "name": "python3"
  },
  "language_info": {
   "codemirror_mode": {
    "name": "ipython",
    "version": 3
   },
   "file_extension": ".py",
   "mimetype": "text/x-python",
   "name": "python",
   "nbconvert_exporter": "python",
   "pygments_lexer": "ipython3",
   "version": "3.10.6"
  }
 },
 "nbformat": 4,
 "nbformat_minor": 5
}
